{
 "cells": [
  {
   "cell_type": "code",
   "execution_count": 40,
   "metadata": {},
   "outputs": [],
   "source": [
    "from pathlib import Path\n",
    "from PIL import Image\n",
    "from random import randint\n",
    "from dicttoxml import dicttoxml\n",
    "from xml.dom.minidom import parseString\n",
    "import re\n"
   ]
  },
  {
   "cell_type": "code",
   "execution_count": 41,
   "metadata": {},
   "outputs": [],
   "source": [
    "SYMBOLS = \"0123456789-ABCDEFGHIJKLMNOPQRSTUVWXYZ\"\n",
    "SYMPOLS_PIC_DIR = \"patterns_lib/symbols\"\n",
    "PLATES_PIC_DIR = \"patterns_lib/plate_types\"\n",
    "SAVE_DATASET_TO = \"raw_datasets/plates_dataset_generated\"\n",
    "\n",
    "symbols = []\n",
    "path = Path(SYMPOLS_PIC_DIR)\n",
    "for symbol in SYMBOLS:\n",
    "    symbol_path = path.joinpath(f\"{symbol.lower()}.png\")\n",
    "    img = Image.open(symbol_path)\n",
    "    symbols.append(img)\n",
    "plates = [Image.open(plate_path) for plate_path in Path(PLATES_PIC_DIR).iterdir()]\n",
    "\n",
    "q_ty = 1000\n",
    "i = 0\n",
    "while i <= q_ty:\n",
    "    name = \"\"\n",
    "    plate = plates[randint(0, 2)].copy()\n",
    "    # plate = Image.new(mode=\"RGB\", size=(235, 51), color=(255, 255, 255))\n",
    "\n",
    "    x, y = 33, 11\n",
    "    for _ in range(8):\n",
    "        symbol_index = randint(0, len(SYMBOLS) - 1)\n",
    "        symbol = symbols[symbol_index]\n",
    "        plate.paste(symbol, (x, y))\n",
    "        x += symbol.width + 2\n",
    "        name += SYMBOLS[symbol_index]\n",
    "    \n",
    "    if x - 2 >= plate.width - 5:\n",
    "        continue\n",
    "    \n",
    "    plate.save(f\"{SAVE_DATASET_TO}/{name}.png\")\n",
    "\n",
    "    i += 1\n"
   ]
  }
 ],
 "metadata": {
  "kernelspec": {
   "display_name": ".env",
   "language": "python",
   "name": "python3"
  },
  "language_info": {
   "codemirror_mode": {
    "name": "ipython",
    "version": 3
   },
   "file_extension": ".py",
   "mimetype": "text/x-python",
   "name": "python",
   "nbconvert_exporter": "python",
   "pygments_lexer": "ipython3",
   "version": "3.12.5"
  }
 },
 "nbformat": 4,
 "nbformat_minor": 2
}
