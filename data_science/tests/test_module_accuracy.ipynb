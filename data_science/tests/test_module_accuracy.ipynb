{
 "cells": [
  {
   "cell_type": "code",
   "execution_count": 5,
   "metadata": {},
   "outputs": [],
   "source": [
    "from PIL import Image\n",
    "from pathlib import Path\n",
    "from sklearn import metrics\n",
    "from vehicle_license_plate_recognizer import recognizer_enhanced as recognizer\n"
   ]
  },
  {
   "cell_type": "code",
   "execution_count": 6,
   "metadata": {},
   "outputs": [],
   "source": [
    "# Plates recognition only test.\n",
    "# Dataset: test dataset Nomeroff Net project\n",
    "# https://nomeroff.net.ua/datasets/autoriaNumberplateOcrUa-2023-04-18.zip\n",
    "\n",
    "test_ds_path = Path(\"/media/data/datasets/autoriaNumberplateOcrUa/test/\")\n",
    "\n",
    "y_pred = []\n",
    "y_true = []\n",
    "\n",
    "for file in test_ds_path.iterdir():\n",
    "    if file.suffix != \".png\":\n",
    "        continue\n",
    "    y_true.append(file.stem)\n",
    "    image = Image.open(file)\n",
    "    image = image.convert(\"RGB\")\n",
    "    y_pr = recognizer.recognize_chars(image)\n",
    "    if y_pr is None:\n",
    "        y_pr = \"\"\n",
    "    y_pred.append(y_pr)\n"
   ]
  },
  {
   "cell_type": "code",
   "execution_count": 7,
   "metadata": {},
   "outputs": [
    {
     "data": {
      "text/plain": [
       "0.9804517810599479"
      ]
     },
     "execution_count": 7,
     "metadata": {},
     "output_type": "execute_result"
    }
   ],
   "source": [
    "# accuracy\n",
    "metrics.accuracy_score(y_true, y_pred)"
   ]
  },
  {
   "cell_type": "code",
   "execution_count": 8,
   "metadata": {},
   "outputs": [],
   "source": [
    "# Overall test: plate position detection + plate recognition.\n",
    "# Dataset: photos from auto.ria.com: clear visible number plate readable by human,\n",
    "# new Ukrainian plates design: https://drive.google.com/file/d/1guWpbeZWcaYDGqJftHxdeBte7KIst5IQ/view?usp=drive_link\n",
    "\n",
    "test_ds_path = Path(\"test_dataset/auto_ria/\")\n",
    "\n",
    "y_pred = []\n",
    "y_true = []\n",
    "\n",
    "for file in test_ds_path.iterdir():\n",
    "    if file.suffix != \".jpg\":\n",
    "        continue\n",
    "    y_true.append(file.stem)\n",
    "    image = Image.open(file)\n",
    "    _, _, y_pr= recognizer.recognize(image)\n",
    "    if y_pr is None:\n",
    "        y_pr = \"\"\n",
    "    y_pred.append(y_pr)\n"
   ]
  },
  {
   "cell_type": "code",
   "execution_count": 9,
   "metadata": {},
   "outputs": [
    {
     "data": {
      "text/plain": [
       "0.8710526315789474"
      ]
     },
     "execution_count": 9,
     "metadata": {},
     "output_type": "execute_result"
    }
   ],
   "source": [
    "# accuracy\n",
    "metrics.accuracy_score(y_true, y_pred)"
   ]
  }
 ],
 "metadata": {
  "kernelspec": {
   "display_name": ".env",
   "language": "python",
   "name": "python3"
  },
  "language_info": {
   "codemirror_mode": {
    "name": "ipython",
    "version": 3
   },
   "file_extension": ".py",
   "mimetype": "text/x-python",
   "name": "python",
   "nbconvert_exporter": "python",
   "pygments_lexer": "ipython3",
   "version": "3.12.5"
  }
 },
 "nbformat": 4,
 "nbformat_minor": 2
}
